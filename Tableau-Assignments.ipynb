{
 "cells": [
  {
   "cell_type": "markdown",
   "id": "c0033be6",
   "metadata": {},
   "source": [
    "Tableau Assignments"
   ]
  },
  {
   "cell_type": "markdown",
   "id": "d5779ca6",
   "metadata": {},
   "source": [
    "Tableau Assignment_1 : was completed on the Tableau Escape the Room page"
   ]
  },
  {
   "cell_type": "markdown",
   "id": "7439421d",
   "metadata": {},
   "source": [
    "Tableau Assignment_2 :\n",
    "https://public.tableau.com/app/profile/senem1506/viz/Assignment-2_16661299086490/Dashboard1"
   ]
  },
  {
   "cell_type": "markdown",
   "id": "a80eeae9",
   "metadata": {},
   "source": [
    "Tableau Assignment_3 :\n",
    "https://public.tableau.com/app/profile/senem1506/viz/Assignment-3_16664860742080/Dashboard1"
   ]
  }
 ],
 "metadata": {
  "kernelspec": {
   "display_name": "Python 3 (ipykernel)",
   "language": "python",
   "name": "python3"
  },
  "language_info": {
   "codemirror_mode": {
    "name": "ipython",
    "version": 3
   },
   "file_extension": ".py",
   "mimetype": "text/x-python",
   "name": "python",
   "nbconvert_exporter": "python",
   "pygments_lexer": "ipython3",
   "version": "3.9.12"
  }
 },
 "nbformat": 4,
 "nbformat_minor": 5
}
